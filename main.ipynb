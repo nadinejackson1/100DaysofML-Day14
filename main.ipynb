{
 "cells": [
  {
   "cell_type": "code",
   "execution_count": 2,
   "metadata": {},
   "outputs": [
    {
     "name": "stderr",
     "output_type": "stream",
     "text": [
      "2023-04-21 12:45:45.485545: I tensorflow/core/platform/cpu_feature_guard.cc:182] This TensorFlow binary is optimized to use available CPU instructions in performance-critical operations.\n",
      "To enable the following instructions: AVX2 FMA, in other operations, rebuild TensorFlow with the appropriate compiler flags.\n"
     ]
    }
   ],
   "source": [
    "import numpy as np\n",
    "import matplotlib.pyplot as plt\n",
    "from tensorflow.keras.datasets import cifar10\n",
    "from tensorflow.keras.models import Sequential\n",
    "from tensorflow.keras.layers import Conv2D, MaxPooling2D, Dense, Flatten, Dropout\n",
    "from tensorflow.keras.optimizers import Adam\n",
    "from tensorflow.keras.utils import to_categorical\n",
    "from sklearn.metrics import accuracy_score, confusion_matrix"
   ]
  },
  {
   "cell_type": "code",
   "execution_count": 3,
   "metadata": {},
   "outputs": [
    {
     "name": "stdout",
     "output_type": "stream",
     "text": [
      "Downloading data from https://www.cs.toronto.edu/~kriz/cifar-10-python.tar.gz\n",
      "170498071/170498071 [==============================] - 54s 0us/step\n"
     ]
    }
   ],
   "source": [
    "(x_train, y_train), (x_test, y_test) = cifar10.load_data()\n",
    "\n",
    "# Normalize the images\n",
    "x_train = x_train.astype('float32') / 255\n",
    "x_test = x_test.astype('float32') / 255\n",
    "\n",
    "# Convert labels to one-hot vectors\n",
    "y_train = to_categorical(y_train)\n",
    "y_test = to_categorical(y_test)\n",
    "\n",
    "# Set the class names for visualization\n",
    "class_names = ['airplane', 'automobile', 'bird', 'cat', 'deer', 'dog', 'frog', 'horse', 'ship', 'truck']"
   ]
  },
  {
   "cell_type": "code",
   "execution_count": 4,
   "metadata": {},
   "outputs": [
    {
     "name": "stderr",
     "output_type": "stream",
     "text": [
      "WARNING:absl:`lr` is deprecated in Keras optimizer, please use `learning_rate` or use the legacy optimizer, e.g.,tf.keras.optimizers.legacy.Adam.\n"
     ]
    },
    {
     "name": "stdout",
     "output_type": "stream",
     "text": [
      "Model: \"sequential\"\n",
      "_________________________________________________________________\n",
      " Layer (type)                Output Shape              Param #   \n",
      "=================================================================\n",
      " conv2d (Conv2D)             (None, 32, 32, 32)        896       \n",
      "                                                                 \n",
      " max_pooling2d (MaxPooling2D  (None, 16, 16, 32)       0         \n",
      " )                                                               \n",
      "                                                                 \n",
      " conv2d_1 (Conv2D)           (None, 16, 16, 64)        18496     \n",
      "                                                                 \n",
      " max_pooling2d_1 (MaxPooling  (None, 8, 8, 64)         0         \n",
      " 2D)                                                             \n",
      "                                                                 \n",
      " conv2d_2 (Conv2D)           (None, 8, 8, 128)         73856     \n",
      "                                                                 \n",
      " max_pooling2d_2 (MaxPooling  (None, 4, 4, 128)        0         \n",
      " 2D)                                                             \n",
      "                                                                 \n",
      " flatten (Flatten)           (None, 2048)              0         \n",
      "                                                                 \n",
      " dense (Dense)               (None, 128)               262272    \n",
      "                                                                 \n",
      " dropout (Dropout)           (None, 128)               0         \n",
      "                                                                 \n",
      " dense_1 (Dense)             (None, 10)                1290      \n",
      "                                                                 \n",
      "=================================================================\n",
      "Total params: 356,810\n",
      "Trainable params: 356,810\n",
      "Non-trainable params: 0\n",
      "_________________________________________________________________\n"
     ]
    }
   ],
   "source": [
    "model = Sequential([\n",
    "    Conv2D(32, (3, 3), activation='relu', padding='same', input_shape=(32, 32, 3)),\n",
    "    MaxPooling2D((2, 2)),\n",
    "    Conv2D(64, (3, 3), activation='relu', padding='same'),\n",
    "    MaxPooling2D((2, 2)),\n",
    "    Conv2D(128, (3, 3), activation='relu', padding='same'),\n",
    "    MaxPooling2D((2, 2)),\n",
    "    Flatten(),\n",
    "    Dense(128, activation='relu'),\n",
    "    Dropout(0.5),\n",
    "    Dense(10, activation='softmax')\n",
    "])\n",
    "\n",
    "# Compile the model\n",
    "model.compile(optimizer=Adam(lr=0.001), loss='categorical_crossentropy', metrics=['accuracy'])\n",
    "\n",
    "# Display model summary\n",
    "model.summary()"
   ]
  },
  {
   "cell_type": "code",
   "execution_count": 6,
   "metadata": {},
   "outputs": [
    {
     "name": "stdout",
     "output_type": "stream",
     "text": [
      "Epoch 1/15\n",
      "782/782 [==============================] - 129s 164ms/step - loss: 1.5558 - accuracy: 0.4318 - val_loss: 1.2136 - val_accuracy: 0.5665\n",
      "Epoch 2/15\n",
      "782/782 [==============================] - 148s 189ms/step - loss: 1.2198 - accuracy: 0.5668 - val_loss: 1.0106 - val_accuracy: 0.6400\n",
      "Epoch 3/15\n",
      "782/782 [==============================] - 143s 182ms/step - loss: 1.0449 - accuracy: 0.6345 - val_loss: 0.9171 - val_accuracy: 0.6778\n",
      "Epoch 4/15\n",
      "782/782 [==============================] - 123s 157ms/step - loss: 0.9321 - accuracy: 0.6729 - val_loss: 0.8458 - val_accuracy: 0.7072\n",
      "Epoch 5/15\n",
      "782/782 [==============================] - 136s 174ms/step - loss: 0.8585 - accuracy: 0.7018 - val_loss: 0.8019 - val_accuracy: 0.7206\n",
      "Epoch 6/15\n",
      "782/782 [==============================] - 145s 185ms/step - loss: 0.7915 - accuracy: 0.7212 - val_loss: 0.7562 - val_accuracy: 0.7374\n",
      "Epoch 7/15\n",
      "782/782 [==============================] - 99s 126ms/step - loss: 0.7275 - accuracy: 0.7453 - val_loss: 0.7486 - val_accuracy: 0.7388\n",
      "Epoch 8/15\n",
      "782/782 [==============================] - 122s 156ms/step - loss: 0.6841 - accuracy: 0.7627 - val_loss: 0.7365 - val_accuracy: 0.7467\n",
      "Epoch 9/15\n",
      "782/782 [==============================] - 101s 129ms/step - loss: 0.6411 - accuracy: 0.7757 - val_loss: 0.7497 - val_accuracy: 0.7480\n",
      "Epoch 10/15\n",
      "782/782 [==============================] - 161s 206ms/step - loss: 0.6015 - accuracy: 0.7887 - val_loss: 0.7802 - val_accuracy: 0.7379\n",
      "Epoch 11/15\n",
      "782/782 [==============================] - 140s 178ms/step - loss: 0.5671 - accuracy: 0.8000 - val_loss: 0.7201 - val_accuracy: 0.7585\n",
      "Epoch 12/15\n",
      "782/782 [==============================] - 113s 144ms/step - loss: 0.5366 - accuracy: 0.8082 - val_loss: 0.7214 - val_accuracy: 0.7654\n",
      "Epoch 13/15\n",
      "782/782 [==============================] - 104s 133ms/step - loss: 0.5104 - accuracy: 0.8167 - val_loss: 0.7352 - val_accuracy: 0.7637\n",
      "Epoch 14/15\n",
      "782/782 [==============================] - 100s 127ms/step - loss: 0.4765 - accuracy: 0.8301 - val_loss: 0.7653 - val_accuracy: 0.7608\n",
      "Epoch 15/15\n",
      "782/782 [==============================] - 182s 233ms/step - loss: 0.4585 - accuracy: 0.8358 - val_loss: 0.7728 - val_accuracy: 0.7606\n"
     ]
    }
   ],
   "source": [
    "history = model.fit(x_train, y_train, epochs=15, batch_size=64, validation_data=(x_test, y_test))"
   ]
  },
  {
   "cell_type": "code",
   "execution_count": 7,
   "metadata": {},
   "outputs": [
    {
     "data": {
      "image/png": "[encoded data removed]",
      "text/plain": [
       "<Figure size 640x480 with 1 Axes>"
      ]
     },
     "metadata": {},
     "output_type": "display_data"
    }
   ],
   "source": [
    "plt.plot(history.history['accuracy'], label='Train')\n",
    "plt.plot(history.history['val_accuracy'], label='Test')\n",
    "plt.xlabel('Epoch')\n",
    "plt.ylabel('Accuracy')\n",
    "plt.legend()\n",
    "plt.show()"
   ]
  },
  {
   "cell_type": "code",
   "execution_count": 8,
   "metadata": {},
   "outputs": [
    {
     "name": "stdout",
     "output_type": "stream",
     "text": [
      "313/313 [==============================] - 16s 49ms/step\n",
      "CNN Accuracy: 0.7606\n",
      "Confusion Matrix:\n",
      " [[828  16  40  21   8   4   2   8  46  27]\n",
      " [ 11 848   3   2   3   5   0   1  11 116]\n",
      " [ 60   3 679  43  69  64  38  25   6  13]\n",
      " [ 20   9  61 589  62 160  30  38   7  24]\n",
      " [ 23   2  49  70 721  28  27  68   7   5]\n",
      " [ 10   2  38 165  35 665  13  52   7  13]\n",
      " [  7   4  49  93  44  25 745   5  14  14]\n",
      " [ 19   0  36  33  44  47   4 799   2  16]\n",
      " [ 60  25  15  14   6   2   1   2 854  21]\n",
      " [ 31  45   5   7   0   4   3  12  15 878]]\n"
     ]
    }
   ],
   "source": [
    "y_pred = model.predict(x_test)\n",
    "y_pred_classes = np.argmax(y_pred, axis=1)\n",
    "y_test_classes = np.argmax(y_test, axis=1)\n",
    "\n",
    "accuracy = accuracy_score(y_test_classes, y_pred_classes)\n",
    "print(\"CNN Accuracy:\", accuracy)\n",
    "\n",
    "confusion_mtx = confusion_matrix(y_test_classes, y_pred_classes)\n",
    "print(\"Confusion Matrix:\\n\", confusion_mtx)"
   ]
  },
  {
   "cell_type": "code",
   "execution_count": 9,
   "metadata": {},
   "outputs": [],
   "source": [
    "def test_cnn_accuracy():\n",
    "    assert accuracy > 0.6, \"CNN accuracy too low\"\n",
    "    \n",
    "test_cnn_accuracy()"
   ]
  }
 ],
 "metadata": {
  "kernelspec": {
   "display_name": "Python 3",
   "language": "python",
   "name": "python3"
  },
  "language_info": {
   "codemirror_mode": {
    "name": "ipython",
    "version": 3
   },
   "file_extension": ".py",
   "mimetype": "text/x-python",
   "name": "python",
   "nbconvert_exporter": "python",
   "pygments_lexer": "ipython3",
   "version": "3.11.3"
  },
  "orig_nbformat": 4
 },
 "nbformat": 4,
 "nbformat_minor": 2
}
